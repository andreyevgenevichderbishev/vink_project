{
 "cells": [
  {
   "cell_type": "markdown",
   "id": "54b4485d-08fa-4eaf-8644-b7580f11d35f",
   "metadata": {},
   "source": [
    "# Поиск наиболее близких товаров."
   ]
  },
  {
   "cell_type": "markdown",
   "id": "ad356ebd-db42-441e-adca-06c71fc8f0d5",
   "metadata": {},
   "source": [
    "### Постановка задачи."
   ]
  },
  {
   "cell_type": "markdown",
   "id": "a70cd495-de5c-40ec-beff-9fa58d133e2e",
   "metadata": {},
   "source": [
    "Есть несколько файлов содержаших данные о товарах Винк.\n",
    "Нужно построить модель , которая по введенным данным о товаре будет предсказывать наиболее близкий товар из ассортимента.\n",
    "Для проверки модели предоставлен список соответствий составленных вручную. Метрика которая интересует заказчика - accuracy\n"
   ]
  },
  {
   "cell_type": "markdown",
   "id": "5aa69a8b-c3b6-4de8-a952-e0aa43154ad3",
   "metadata": {},
   "source": [
    "Предоставленные данные\n",
    "- Список товаров.csv (Основной файл с данными о   товарах)\n",
    "- Товары с артикулом.csv\n",
    "- Товары  с категорями.xls\n",
    "- Сметченные позиции 1.csv\n",
    "- Сметченные позиции 2.csv\n",
    "- Сметченные позиции 3.csv"
   ]
  },
  {
   "cell_type": "markdown",
   "id": "c7ccaec5-0fca-4bbd-a77f-416b0cc5cb33",
   "metadata": {},
   "source": [
    "Описание полей.\n",
    " \n",
    " 1) сметченные позиции\n",
    " - id,\n",
    " - \"match_type\", - тип сопоставления. Есть три типа сопоставления товаров: аналог, точное соответствие и нет сопоставления\n",
    " - \"name\",  - введенное название товара\n",
    " - \"review_status\", - это тип валидации. После сопоставления каждое сопоставление дополнительно проверяется, соответсвенно смотрим на статус\n",
    " - \"validated\" - значит метчинг проверили 2 раза и он сопоставлен. \n",
    " - \"sku_id\", - id товара\n",
    " - \"measurement_coefficient\" -  коэффициент пересчета из базовой единицы измерения товара (уникальной для каждого SKU) в текущую единицу. Применяется для конвертации, например, рулонов в квадратные метры или в погонные метры.\n",
    "\n",
    "2) Список товаров\n",
    " - sku_id, - id товара\n",
    " - \"sku_name\" - наименование товара \n",
    " - \"unit\",  - единица измерения \n",
    " - \"net_weight_base_unit\" - вес \n",
    " - \"length_base_unit\", - длина\n",
    " - \"width_base_unit\", - ширина\n",
    " - \"height_base_unit\" - высота"
   ]
  },
  {
   "cell_type": "markdown",
   "id": "3b9e1828-b2de-4ca7-9736-cd8f65329183",
   "metadata": {},
   "source": [
    "### План работы"
   ]
  },
  {
   "cell_type": "markdown",
   "id": "71740f5a-310d-422f-81a2-3dc77e33ea65",
   "metadata": {},
   "source": [
    "Первая часть работы будет посвещена загрузке и обработке данных.\n",
    "Поскольку дано много файлов данных с разными полями, будем последовательно загружать, изучать их приводя к одинаковому формату. Одновременно с этим будет удалять дубликаты и подозрительные записи. В итоге в конце главы получим 2 датафрейма.\n",
    "- df_vink_items данные о товарах\n",
    "- df_match данные о соответствиях между товарами для проверки модели.\n",
    "  \n",
    "Вторая часть работы посвещена созданию модели для предсказания и оценке ее точности.\n",
    "\n",
    "В заключительной части делаются выводы и даеются рекомендации."
   ]
  },
  {
   "cell_type": "markdown",
   "id": "0a0a12a2-99c7-4f1a-af23-f3152cec3eff",
   "metadata": {},
   "source": [
    "### Загрузка библиотек"
   ]
  },
  {
   "cell_type": "code",
   "execution_count": 340,
   "id": "de208cc6-4728-49a4-9961-c8a59cd0684e",
   "metadata": {},
   "outputs": [
    {
     "name": "stderr",
     "output_type": "stream",
     "text": [
      "[nltk_data] Downloading package wordnet to\n",
      "[nltk_data]     C:\\Users\\andre\\AppData\\Roaming\\nltk_data...\n",
      "[nltk_data]   Package wordnet is already up-to-date!\n"
     ]
    },
    {
     "data": {
      "text/plain": [
       "True"
      ]
     },
     "execution_count": 340,
     "metadata": {},
     "output_type": "execute_result"
    }
   ],
   "source": [
    "import random\n",
    "import re\n",
    "\n",
    "import joblib\n",
    "import matplotlib.pyplot as plt\n",
    "import nltk\n",
    "import numpy as np\n",
    "import pandas as pd\n",
    "import pymorphy3\n",
    "from gensim.models import FastText\n",
    "from nltk.stem import SnowballStemmer, WordNetLemmatizer\n",
    "from numpy.linalg import norm\n",
    "from sklearn.feature_extraction.text import TfidfVectorizer\n",
    "from sklearn.metrics.pairwise import cosine_similarity\n",
    "from sklearn.neighbors import NearestNeighbors\n",
    "from tqdm import tqdm\n",
    "\n",
    "# Загружаем словари WordNet\n",
    "nltk.download('wordnet')"
   ]
  },
  {
   "cell_type": "code",
   "execution_count": 341,
   "id": "1f194602-ab9a-4e42-a2d9-b25c558945d4",
   "metadata": {},
   "outputs": [],
   "source": [
    "pd.options.display.max_colwidth = 100\n",
    "pd.options.display.max_rows = 100\n",
    "DIR = 'D:\\\\Matching\\\\'"
   ]
  },
  {
   "cell_type": "markdown",
   "id": "aa9171a4-5a3d-4dc5-948a-f219af24a497",
   "metadata": {},
   "source": [
    "### Загрузка данных"
   ]
  },
  {
   "cell_type": "markdown",
   "id": "fd74d4cc-2b27-4871-a655-6b719a7b7cdb",
   "metadata": {},
   "source": [
    "Всего заказчиком предоставлено 4 файлов данных. Будем загружать последовательно и разбираться с содержимым."
   ]
  },
  {
   "cell_type": "markdown",
   "id": "b1848aab-06ce-45f0-8f79-dc333eda561b",
   "metadata": {},
   "source": [
    "#### Список товаров"
   ]
  },
  {
   "cell_type": "markdown",
   "id": "71e88bc6-704f-4b28-bd3e-3c93ac37c6d7",
   "metadata": {},
   "source": [
    "Основной файл с данными о товарах."
   ]
  },
  {
   "cell_type": "code",
   "execution_count": null,
   "id": "0b45d5a7-787b-493b-8275-6184f7274ec9",
   "metadata": {},
   "outputs": [],
   "source": [
    "df_vink_items = pd.read_csv(DIR+\"Список товаров.csv\")"
   ]
  },
  {
   "cell_type": "markdown",
   "id": "e18a1ad6-ce1c-4fd0-ac19-7c82f87881de",
   "metadata": {},
   "source": [
    "Опять оставляем только имя и единицы."
   ]
  },
  {
   "cell_type": "code",
   "execution_count": 365,
   "id": "edf4eae5-a483-4da9-b6fa-33a42ad27ab7",
   "metadata": {},
   "outputs": [],
   "source": [
    "df_vink_items = df_vink_items.rename(columns={'sku_name':'name','unit':'units'})\n",
    "df_vink_items = df_vink_items[['name','units']]"
   ]
  },
  {
   "cell_type": "code",
   "execution_count": 366,
   "id": "184b0efd-c37a-4d94-bb90-86e914cf299e",
   "metadata": {},
   "outputs": [
    {
     "data": {
      "text/html": [
       "<div>\n",
       "<style scoped>\n",
       "    .dataframe tbody tr th:only-of-type {\n",
       "        vertical-align: middle;\n",
       "    }\n",
       "\n",
       "    .dataframe tbody tr th {\n",
       "        vertical-align: top;\n",
       "    }\n",
       "\n",
       "    .dataframe thead th {\n",
       "        text-align: right;\n",
       "    }\n",
       "</style>\n",
       "<table border=\"1\" class=\"dataframe\">\n",
       "  <thead>\n",
       "    <tr style=\"text-align: right;\">\n",
       "      <th>units</th>\n",
       "      <th>Нечто</th>\n",
       "      <th>ШТ.</th>\n",
       "      <th>бухта</th>\n",
       "      <th>кг</th>\n",
       "      <th>кор</th>\n",
       "      <th>л</th>\n",
       "      <th>лист</th>\n",
       "      <th>м</th>\n",
       "      <th>м2</th>\n",
       "      <th>м3</th>\n",
       "      <th>пог. м</th>\n",
       "      <th>рул</th>\n",
       "      <th>упак</th>\n",
       "      <th>шт</th>\n",
       "    </tr>\n",
       "  </thead>\n",
       "  <tbody>\n",
       "    <tr>\n",
       "      <th>name</th>\n",
       "      <td>10</td>\n",
       "      <td>19101</td>\n",
       "      <td>43</td>\n",
       "      <td>382</td>\n",
       "      <td>4</td>\n",
       "      <td>15</td>\n",
       "      <td>116</td>\n",
       "      <td>51</td>\n",
       "      <td>88</td>\n",
       "      <td>2</td>\n",
       "      <td>129</td>\n",
       "      <td>12442</td>\n",
       "      <td>346</td>\n",
       "      <td>19101</td>\n",
       "    </tr>\n",
       "  </tbody>\n",
       "</table>\n",
       "</div>"
      ],
      "text/plain": [
       "units  Нечто    ШТ.  бухта   кг  кор   л  лист   м  м2  м3  пог. м    рул  \\\n",
       "name      10  19101     43  382    4  15   116  51  88   2     129  12442   \n",
       "\n",
       "units  упак     шт  \n",
       "name    346  19101  "
      ]
     },
     "execution_count": 366,
     "metadata": {},
     "output_type": "execute_result"
    }
   ],
   "source": [
    "df_vink_items.pivot_table(index='units',values = 'name', aggfunc = 'count').T"
   ]
  },
  {
   "cell_type": "markdown",
   "id": "b7933cf8-4dc1-4fdb-bb71-4aa32f4c3317",
   "metadata": {},
   "source": [
    "Нечто переведем в шт, ШТ. в шт , бухту в упаковку , кор в упаковку."
   ]
  },
  {
   "cell_type": "code",
   "execution_count": 367,
   "id": "a783c4fe-5272-48e4-8410-96cb9053ece3",
   "metadata": {},
   "outputs": [
    {
     "data": {
      "text/html": [
       "<div>\n",
       "<style scoped>\n",
       "    .dataframe tbody tr th:only-of-type {\n",
       "        vertical-align: middle;\n",
       "    }\n",
       "\n",
       "    .dataframe tbody tr th {\n",
       "        vertical-align: top;\n",
       "    }\n",
       "\n",
       "    .dataframe thead th {\n",
       "        text-align: right;\n",
       "    }\n",
       "</style>\n",
       "<table border=\"1\" class=\"dataframe\">\n",
       "  <thead>\n",
       "    <tr style=\"text-align: right;\">\n",
       "      <th>units</th>\n",
       "      <th>кг</th>\n",
       "      <th>л</th>\n",
       "      <th>лист</th>\n",
       "      <th>м</th>\n",
       "      <th>м2</th>\n",
       "      <th>м3</th>\n",
       "      <th>пог. м</th>\n",
       "      <th>рул</th>\n",
       "      <th>упак</th>\n",
       "      <th>шт</th>\n",
       "    </tr>\n",
       "  </thead>\n",
       "  <tbody>\n",
       "    <tr>\n",
       "      <th>name</th>\n",
       "      <td>382</td>\n",
       "      <td>15</td>\n",
       "      <td>116</td>\n",
       "      <td>51</td>\n",
       "      <td>88</td>\n",
       "      <td>2</td>\n",
       "      <td>129</td>\n",
       "      <td>12442</td>\n",
       "      <td>393</td>\n",
       "      <td>38212</td>\n",
       "    </tr>\n",
       "  </tbody>\n",
       "</table>\n",
       "</div>"
      ],
      "text/plain": [
       "units   кг   л  лист   м  м2  м3  пог. м    рул  упак     шт\n",
       "name   382  15   116  51  88   2     129  12442   393  38212"
      ]
     },
     "execution_count": 367,
     "metadata": {},
     "output_type": "execute_result"
    }
   ],
   "source": [
    "df_vink_items.loc[df_vink_items['units']=='кор','units'] = 'упак'\n",
    "df_vink_items.loc[df_vink_items['units']=='бухта','units'] = 'упак'\n",
    "df_vink_items.loc[df_vink_items['units']=='ШТ.','units'] = 'шт'\n",
    "df_vink_items.loc[df_vink_items['units']=='Нечто','units'] = 'шт'\n",
    "df_vink_items.pivot_table(index='units',values = 'name', aggfunc = 'count').T"
   ]
  },
  {
   "cell_type": "markdown",
   "id": "8f1df0a3-debf-44ec-b3d1-5a56121a2644",
   "metadata": {},
   "source": [
    "Дубликаты смотрим и удаляем"
   ]
  },
  {
   "cell_type": "code",
   "execution_count": 368,
   "id": "db484fa6-d0cc-4eea-b0c8-ba37c4a40ebd",
   "metadata": {},
   "outputs": [
    {
     "data": {
      "text/plain": [
       "19250"
      ]
     },
     "execution_count": 368,
     "metadata": {},
     "output_type": "execute_result"
    }
   ],
   "source": [
    "df_vink_items.duplicated().sum()"
   ]
  },
  {
   "cell_type": "markdown",
   "id": "71c43ba4-54d4-443b-95be-2c62b33c5224",
   "metadata": {},
   "source": [
    "ШТ. и шт были полностью дублированы. Причину этого нужно исправить на стороне заказчика."
   ]
  },
  {
   "cell_type": "code",
   "execution_count": 369,
   "id": "b952cf29-c984-4671-9e08-429d6dcab315",
   "metadata": {},
   "outputs": [
    {
     "data": {
      "text/plain": [
       "(32584, 2)"
      ]
     },
     "execution_count": 369,
     "metadata": {},
     "output_type": "execute_result"
    }
   ],
   "source": [
    "df_vink_items = df_vink_items.drop_duplicates()\n",
    "df_vink_items.shape"
   ]
  },
  {
   "cell_type": "markdown",
   "id": "d9ed0733-a5f1-4121-b3f5-6b763ff628c8",
   "metadata": {},
   "source": [
    "Посмотрим короткие имена"
   ]
  },
  {
   "cell_type": "code",
   "execution_count": null,
   "id": "467653aa-99db-4744-951b-3d3afd3d343c",
   "metadata": {},
   "outputs": [],
   "source": [
    "df_vink_items.loc[df_vink_items['name'].str.len()<10].shape[0]"
   ]
  },
  {
   "cell_type": "markdown",
   "id": "787a5b82-4a24-41bc-8a13-a5fa113acdda",
   "metadata": {},
   "source": [
    "Видим, что есть весьма общие наименования. Есть так же тест2, тест4, v, test, тест, ТЕСТ удалим их."
   ]
  },
  {
   "cell_type": "code",
   "execution_count": 371,
   "id": "80efe4df-a876-414d-bba4-f2a919f3ec6d",
   "metadata": {},
   "outputs": [
    {
     "data": {
      "text/plain": [
       "(32576, 2)"
      ]
     },
     "execution_count": 371,
     "metadata": {},
     "output_type": "execute_result"
    }
   ],
   "source": [
    "df_vink_items = df_vink_items.loc[~df_vink_items['name'].isin(['тест2', 'тест4', 'v', 'test', 'тест', 'ТЕСТ'])].dropna()\n",
    "df_vink_items.shape"
   ]
  },
  {
   "cell_type": "markdown",
   "id": "79e5e603-cee4-43dc-aab9-4db1dbec7d8b",
   "metadata": {},
   "source": [
    "##### Вывод"
   ]
  },
  {
   "cell_type": "markdown",
   "id": "e965c03e-322e-42b7-a0ea-5b700512e94b",
   "metadata": {},
   "source": [
    "Датафрейм с товарами очишен и готов к использованию."
   ]
  },
  {
   "cell_type": "markdown",
   "id": "341d25ab-4500-4cd8-9a56-8f3a56efc971",
   "metadata": {},
   "source": [
    "#### Товары с артикулом"
   ]
  },
  {
   "cell_type": "markdown",
   "id": "6474f720-d5da-4cfb-ae96-9e2c573a7fd0",
   "metadata": {},
   "source": [
    "Проводим аналогичные операции."
   ]
  },
  {
   "cell_type": "code",
   "execution_count": null,
   "id": "bc86343e-29c4-4422-95ed-23004e2d9d65",
   "metadata": {},
   "outputs": [],
   "source": [
    "df_vink_items2 = pd.read_csv(DIR+\"Товары с артикулом.csv\")"
   ]
  },
  {
   "cell_type": "code",
   "execution_count": 373,
   "id": "6428da29-510c-4b04-82c9-f9ff698125cb",
   "metadata": {},
   "outputs": [
    {
     "data": {
      "text/plain": [
       "(32981, 8)"
      ]
     },
     "execution_count": 373,
     "metadata": {},
     "output_type": "execute_result"
    }
   ],
   "source": [
    "df_vink_items2.shape"
   ]
  },
  {
   "cell_type": "markdown",
   "id": "20c1e421-3616-45c9-8c49-30fa19bfc59d",
   "metadata": {},
   "source": [
    "Количество записей не совпадает с df_vink_items проверим чего нехватает."
   ]
  },
  {
   "cell_type": "code",
   "execution_count": null,
   "id": "a41e9967-35b5-4e9b-97b1-45825874d78c",
   "metadata": {},
   "outputs": [],
   "source": [
    "df_vink_items_delta = df_vink_items2.loc[~df_vink_items2['item_name'].isin(df_vink_items['name'])]"
   ]
  },
  {
   "cell_type": "markdown",
   "id": "e7072feb-920d-41c1-a151-58002b33a8f3",
   "metadata": {},
   "source": [
    "Проверяем короткие имена."
   ]
  },
  {
   "cell_type": "code",
   "execution_count": null,
   "id": "f7943ae6-6d6a-4bb9-9e02-04e47c9419c3",
   "metadata": {},
   "outputs": [],
   "source": [
    "df_vink_items_delta.loc[df_vink_items_delta['item_name'].str.len()<15].shape[0]"
   ]
  },
  {
   "cell_type": "markdown",
   "id": "0289e3d4-91e3-421a-a75f-173f2f9106d2",
   "metadata": {},
   "source": [
    "Удалим тесты. И переименуем столбцы."
   ]
  },
  {
   "cell_type": "code",
   "execution_count": 376,
   "id": "ac0bf416-be3b-42e2-b0fc-047522008a2b",
   "metadata": {},
   "outputs": [],
   "source": [
    "df_vink_items_delta = df_vink_items_delta[['item_name']]\n",
    "df_vink_items_delta = df_vink_items_delta.rename(columns={'item_name':'name'})"
   ]
  },
  {
   "cell_type": "code",
   "execution_count": 377,
   "id": "eadf6940-10a0-4903-969e-58b0bc8769d3",
   "metadata": {},
   "outputs": [],
   "source": [
    "df_vink_items_delta = df_vink_items_delta.loc[~df_vink_items_delta['name'].isin(['test','тест','тест2','тест4','v','ТЕСТ'])].dropna()"
   ]
  },
  {
   "cell_type": "code",
   "execution_count": 378,
   "id": "8e82d680-43c4-40af-be14-b44aa25368cc",
   "metadata": {},
   "outputs": [
    {
     "data": {
      "text/plain": [
       "(277, 1)"
      ]
     },
     "execution_count": 378,
     "metadata": {},
     "output_type": "execute_result"
    }
   ],
   "source": [
    "df_vink_items_delta.shape"
   ]
  },
  {
   "cell_type": "markdown",
   "id": "77d3fe2d-d992-44c7-8f4b-2d47443bd31f",
   "metadata": {},
   "source": [
    "Файл Товары с артикулом не содержит информации об единицах. Принимаем решение остамить только `name`. Объеденяем df_vink_items с df_vink_items_delta и удалим дубликаты."
   ]
  },
  {
   "cell_type": "code",
   "execution_count": 379,
   "id": "e1ee6198-da1c-4f08-a623-a40bebf4afc7",
   "metadata": {},
   "outputs": [
    {
     "data": {
      "text/plain": [
       "(32839, 1)"
      ]
     },
     "execution_count": 379,
     "metadata": {},
     "output_type": "execute_result"
    }
   ],
   "source": [
    "df_vink_items = pd.concat([df_vink_items[['name']],df_vink_items_delta]).drop_duplicates()\n",
    "df_vink_items.shape"
   ]
  },
  {
   "cell_type": "markdown",
   "id": "c859f3d1-cf54-418c-af91-b75b540b513a",
   "metadata": {},
   "source": [
    "##### Вывод"
   ]
  },
  {
   "cell_type": "markdown",
   "id": "8736fe7d-b87b-4adf-8eae-cf7723d883e1",
   "metadata": {},
   "source": [
    "Из файла Товары с артикулом были извлечены надостающие товары и добавлены в df_vink_items.  Из df_vink_items удалена информация об единицах измерения. "
   ]
  },
  {
   "cell_type": "markdown",
   "id": "9798226e-d46c-4969-98b4-a157699786a3",
   "metadata": {},
   "source": [
    "#### Товары  с категорями"
   ]
  },
  {
   "cell_type": "markdown",
   "id": "429cae6d-06bc-477f-9049-55f89876541d",
   "metadata": {},
   "source": [
    "Третий файл с информацией о   товарах."
   ]
  },
  {
   "cell_type": "code",
   "execution_count": 380,
   "id": "9434eae3-c422-4850-bc10-7c06910d9390",
   "metadata": {},
   "outputs": [],
   "source": [
    "df_vink_items3 = pd.read_excel(DIR+\"Товары  с категорями.xls\")"
   ]
  },
  {
   "cell_type": "code",
   "execution_count": 382,
   "id": "f13be5a2-9b11-4c66-bca4-ba3b1da1da62",
   "metadata": {},
   "outputs": [
    {
     "data": {
      "text/plain": [
       "(102, 21)"
      ]
     },
     "execution_count": 382,
     "metadata": {},
     "output_type": "execute_result"
    }
   ],
   "source": [
    "df_vink_items_delta2 = df_vink_items3.loc[~df_vink_items3['Номенклатура'].isin(df_vink_items['name'])]\n",
    "df_vink_items_delta2.shape"
   ]
  },
  {
   "cell_type": "markdown",
   "id": "870aa2e7-c6e7-42b3-ae63-1419db1695c0",
   "metadata": {},
   "source": [
    "Поступаем как с предыдущим файлом и добавляем к df_vink_items"
   ]
  },
  {
   "cell_type": "code",
   "execution_count": 383,
   "id": "1a93ec61-0733-4ef1-b71a-83c1f652d7c8",
   "metadata": {},
   "outputs": [],
   "source": [
    "df_vink_items_delta2 = df_vink_items_delta2[['Номенклатура']]\n",
    "df_vink_items_delta2 = df_vink_items_delta2.rename(columns={'Номенклатура':'name'})"
   ]
  },
  {
   "cell_type": "code",
   "execution_count": 384,
   "id": "283474f7-46cc-4417-8f83-3154bfec17b5",
   "metadata": {},
   "outputs": [
    {
     "data": {
      "text/html": [
       "<div>\n",
       "<style scoped>\n",
       "    .dataframe tbody tr th:only-of-type {\n",
       "        vertical-align: middle;\n",
       "    }\n",
       "\n",
       "    .dataframe tbody tr th {\n",
       "        vertical-align: top;\n",
       "    }\n",
       "\n",
       "    .dataframe thead th {\n",
       "        text-align: right;\n",
       "    }\n",
       "</style>\n",
       "<table border=\"1\" class=\"dataframe\">\n",
       "  <thead>\n",
       "    <tr style=\"text-align: right;\">\n",
       "      <th></th>\n",
       "      <th>name</th>\n",
       "    </tr>\n",
       "  </thead>\n",
       "  <tbody>\n",
       "  </tbody>\n",
       "</table>\n",
       "</div>"
      ],
      "text/plain": [
       "Empty DataFrame\n",
       "Columns: [name]\n",
       "Index: []"
      ]
     },
     "execution_count": 384,
     "metadata": {},
     "output_type": "execute_result"
    }
   ],
   "source": [
    "df_vink_items_delta2.loc[df_vink_items_delta2['name'].str.len()<10]"
   ]
  },
  {
   "cell_type": "code",
   "execution_count": 385,
   "id": "13adbb9d-a8f6-4854-b2ca-ae4893819848",
   "metadata": {},
   "outputs": [
    {
     "data": {
      "text/plain": [
       "(32940, 1)"
      ]
     },
     "execution_count": 385,
     "metadata": {},
     "output_type": "execute_result"
    }
   ],
   "source": [
    "df_vink_items = pd.concat([df_vink_items[['name']],df_vink_items_delta2]).drop_duplicates().dropna()\n",
    "df_vink_items.shape"
   ]
  },
  {
   "cell_type": "markdown",
   "id": "389f9eb6-d500-4fd5-af3f-9775104881a6",
   "metadata": {},
   "source": [
    "##### Вывод"
   ]
  },
  {
   "cell_type": "markdown",
   "id": "a382bfae-2713-4026-a072-0245f911f7c8",
   "metadata": {},
   "source": [
    "Извлекли недостающие наименования из Товары с категорями и добавили к df_vink_items."
   ]
  },
  {
   "cell_type": "markdown",
   "id": "32d258a7-3566-4453-95ed-663d6ac858c1",
   "metadata": {},
   "source": [
    "#### Сметченные позиции 1"
   ]
  },
  {
   "cell_type": "code",
   "execution_count": 386,
   "id": "e0a633a2-9c31-4de8-a2b6-5e1c5b0292ff",
   "metadata": {},
   "outputs": [],
   "source": [
    "df_match = pd.read_csv(DIR+\"Сметченные позиции 1.csv\")"
   ]
  },
  {
   "cell_type": "markdown",
   "id": "6bea947c-d367-4f46-bc5e-b997008e8169",
   "metadata": {},
   "source": [
    "Оставим только проверенные точные соответствия. Просмотренные аналоги были очень далеки друг от друга по этому аналоги не рассматриваем."
   ]
  },
  {
   "cell_type": "code",
   "execution_count": 388,
   "id": "866ae7d7-188f-4003-9a9d-02f38b4b1bc4",
   "metadata": {},
   "outputs": [
    {
     "data": {
      "text/plain": [
       "(12, 6)"
      ]
     },
     "execution_count": 388,
     "metadata": {},
     "output_type": "execute_result"
    }
   ],
   "source": [
    "df_match = df_match.loc[(df_match['review_status']=='validated')&(df_match['match_type']=='exact')]\n",
    "df_match.shape"
   ]
  },
  {
   "cell_type": "markdown",
   "id": "e8d44b5f-5e7a-4af0-bcae-df65b289f3fb",
   "metadata": {},
   "source": [
    "Переименовываем столбцы."
   ]
  },
  {
   "cell_type": "code",
   "execution_count": null,
   "id": "02f2c98a-a6cf-4cd2-8d61-97d24dc0521f",
   "metadata": {},
   "outputs": [],
   "source": [
    "df_match = df_match[['name', 'sku_name']].drop_duplicates().rename(columns={'sku_name':'target'})"
   ]
  },
  {
   "cell_type": "markdown",
   "id": "704df397-1581-4f5e-8070-830068becae7",
   "metadata": {},
   "source": [
    "Удаляем первую тестовую запись ."
   ]
  },
  {
   "cell_type": "code",
   "execution_count": null,
   "id": "fea378a9-340f-42fe-b0ef-1f896f7a67cf",
   "metadata": {},
   "outputs": [],
   "source": [
    "df_match = df_match.drop(labels = [0,3],axis = 0)"
   ]
  },
  {
   "cell_type": "code",
   "execution_count": 393,
   "id": "25e9e5c9-2e8f-4b07-9214-ea7d627f8162",
   "metadata": {},
   "outputs": [
    {
     "data": {
      "text/plain": [
       "(10, 2)"
      ]
     },
     "execution_count": 393,
     "metadata": {},
     "output_type": "execute_result"
    }
   ],
   "source": [
    "df_match.shape"
   ]
  },
  {
   "cell_type": "markdown",
   "id": "147ad304-fa29-4d3e-88a6-03cfb46e7674",
   "metadata": {},
   "source": [
    "##### Вывод "
   ]
  },
  {
   "cell_type": "markdown",
   "id": "bef4d676-fec0-4b5d-be55-fda39548c960",
   "metadata": {},
   "source": [
    "Очистили файл Сметченные позиции 1, всего осталось 10 достоверных соответствий. "
   ]
  },
  {
   "cell_type": "markdown",
   "id": "53a932fa-7b01-4100-ac56-ca40483f7d30",
   "metadata": {},
   "source": [
    "#### Сметченные позиции 2"
   ]
  },
  {
   "cell_type": "markdown",
   "id": "42c6194a-6122-44a7-acd8-f5ba40a239a9",
   "metadata": {},
   "source": [
    "Второй файл со сметченными позициями. Аналогично оставляем только достоверные соответствия. "
   ]
  },
  {
   "cell_type": "code",
   "execution_count": 394,
   "id": "21302536-0a30-46d3-ac08-8fae3ad4f25f",
   "metadata": {},
   "outputs": [
    {
     "data": {
      "text/plain": [
       "(315, 6)"
      ]
     },
     "execution_count": 394,
     "metadata": {},
     "output_type": "execute_result"
    }
   ],
   "source": [
    "df_match2 = pd.read_csv(DIR+\"Сметченные позиции 2.csv\")\n",
    "df_match2.shape"
   ]
  },
  {
   "cell_type": "code",
   "execution_count": 395,
   "id": "ae75bdfa-c8c4-4670-a65d-6e9e61236523",
   "metadata": {},
   "outputs": [
    {
     "data": {
      "text/plain": [
       "(74, 6)"
      ]
     },
     "execution_count": 395,
     "metadata": {},
     "output_type": "execute_result"
    }
   ],
   "source": [
    "df_match2 = df_match2.loc[(df_match2['match_status']=='validated')&(df_match2['match_type']=='exact')]\n",
    "df_match2.shape"
   ]
  },
  {
   "cell_type": "markdown",
   "id": "7fa40518-b232-45fd-9e21-cab2718923cd",
   "metadata": {},
   "source": [
    "Извлекаем названия, объеденяя таблицы"
   ]
  },
  {
   "cell_type": "code",
   "execution_count": null,
   "id": "154c382c-1701-4dcb-b40e-ccfcde09b38b",
   "metadata": {},
   "outputs": [],
   "source": [
    "df_match2 = df_match2[['product_name', 'sku_name']].drop_duplicates().rename(columns={'sku_name':'target','product_name':'name'})"
   ]
  },
  {
   "cell_type": "code",
   "execution_count": 399,
   "id": "bf74c1e0-3b79-44d2-87f3-aa73adacd9c0",
   "metadata": {},
   "outputs": [],
   "source": [
    "df_match2 = df_match2.drop(labels = [0,1],axis = 0)"
   ]
  },
  {
   "cell_type": "code",
   "execution_count": 400,
   "id": "5bf69780-a25d-43ef-9158-526839a2608e",
   "metadata": {},
   "outputs": [
    {
     "data": {
      "text/plain": [
       "(68, 2)"
      ]
     },
     "execution_count": 400,
     "metadata": {},
     "output_type": "execute_result"
    }
   ],
   "source": [
    "df_match2.shape"
   ]
  },
  {
   "cell_type": "markdown",
   "id": "063e06dc-c20c-4fef-b3cb-6d501573dc5b",
   "metadata": {},
   "source": [
    "Добавляем полученные записи к df_match"
   ]
  },
  {
   "cell_type": "code",
   "execution_count": 401,
   "id": "5e351315-2063-47f4-acab-bcfc6e866745",
   "metadata": {},
   "outputs": [
    {
     "data": {
      "text/plain": [
       "(78, 2)"
      ]
     },
     "execution_count": 401,
     "metadata": {},
     "output_type": "execute_result"
    }
   ],
   "source": [
    "df_match = pd.concat([df_match,df_match2])\n",
    "df_match.shape"
   ]
  },
  {
   "cell_type": "code",
   "execution_count": 402,
   "id": "47895f78-5ca5-4e98-9117-143251a873e7",
   "metadata": {},
   "outputs": [
    {
     "data": {
      "text/plain": [
       "0"
      ]
     },
     "execution_count": 402,
     "metadata": {},
     "output_type": "execute_result"
    }
   ],
   "source": [
    "df_match['name'].duplicated().sum()"
   ]
  },
  {
   "cell_type": "markdown",
   "id": "4c35b6ea-20b7-446c-a16d-731541cfa82a",
   "metadata": {},
   "source": [
    "##### Вывод"
   ]
  },
  {
   "cell_type": "markdown",
   "id": "730dd729-9491-461e-b22b-cfdb53c6821b",
   "metadata": {},
   "source": [
    "Очистили файл Сметченные позиции 2, и добавили данные к df_match."
   ]
  },
  {
   "cell_type": "markdown",
   "id": "fdab4f4f-cdb0-436f-bfa7-8a3ff481e6a5",
   "metadata": {},
   "source": [
    "#### Сметченные позиции 3"
   ]
  },
  {
   "cell_type": "markdown",
   "id": "19cd2cf6-b994-44ec-a1b3-01fda5db883b",
   "metadata": {},
   "source": [
    "Проводим аналогичные шаги."
   ]
  },
  {
   "cell_type": "code",
   "execution_count": 427,
   "id": "e07ce32c-0682-473c-80f0-0a65278ab56d",
   "metadata": {},
   "outputs": [
    {
     "data": {
      "text/plain": [
       "(597, 12)"
      ]
     },
     "execution_count": 427,
     "metadata": {},
     "output_type": "execute_result"
    }
   ],
   "source": [
    "df_match3 = pd.read_csv(\"D:\\Matching\\Сметченные позиции 3.csv\")\n",
    "df_match3.shape"
   ]
  },
  {
   "cell_type": "code",
   "execution_count": 405,
   "id": "f2af72b9-9de4-4676-95e4-4120bac37bf1",
   "metadata": {},
   "outputs": [
    {
     "data": {
      "text/plain": [
       "(219, 12)"
      ]
     },
     "execution_count": 405,
     "metadata": {},
     "output_type": "execute_result"
    }
   ],
   "source": [
    "df_match3 = df_match3.loc[(df_match3['review_status']=='validated')&(df_match3['match_type']=='exact')]\n",
    "df_match3.shape"
   ]
  },
  {
   "cell_type": "markdown",
   "id": "7324d101-099f-4b2d-9d1e-4e1305b2218f",
   "metadata": {},
   "source": [
    "Переименовываем и убираем ошибочные записи."
   ]
  },
  {
   "cell_type": "code",
   "execution_count": 406,
   "id": "882cbd30-229e-42e4-962c-fc6361877b3d",
   "metadata": {},
   "outputs": [],
   "source": [
    "df_match3 = df_match3[['name','item_name']].rename(columns={'item_name':'target'})"
   ]
  },
  {
   "cell_type": "code",
   "execution_count": 407,
   "id": "6a0cfdd2-513d-46c2-89a3-0b11ee8d31fd",
   "metadata": {},
   "outputs": [],
   "source": [
    "df_match3 = df_match3.drop(labels=[2,8],axis=0)"
   ]
  },
  {
   "cell_type": "code",
   "execution_count": 408,
   "id": "abe4ebeb-0881-4a6d-aed6-7e22659f9ee1",
   "metadata": {},
   "outputs": [
    {
     "data": {
      "text/plain": [
       "(295, 2)"
      ]
     },
     "execution_count": 408,
     "metadata": {},
     "output_type": "execute_result"
    }
   ],
   "source": [
    "df_match = pd.concat([df_match,df_match3])\n",
    "df_match.shape"
   ]
  },
  {
   "cell_type": "markdown",
   "id": "c27a92a2-de1d-47b5-af57-abc4f84dd255",
   "metadata": {},
   "source": [
    "Дубликаты удаляем."
   ]
  },
  {
   "cell_type": "code",
   "execution_count": 409,
   "id": "b5e2f9f8-4108-4f66-92a0-5ad86377775f",
   "metadata": {},
   "outputs": [
    {
     "data": {
      "text/plain": [
       "29"
      ]
     },
     "execution_count": 409,
     "metadata": {},
     "output_type": "execute_result"
    }
   ],
   "source": [
    "df_match.duplicated().sum()"
   ]
  },
  {
   "cell_type": "code",
   "execution_count": 410,
   "id": "4d4103a2-4d81-48cb-baa0-570ba2baf368",
   "metadata": {},
   "outputs": [
    {
     "data": {
      "text/plain": [
       "(266, 2)"
      ]
     },
     "execution_count": 410,
     "metadata": {},
     "output_type": "execute_result"
    }
   ],
   "source": [
    "df_match = df_match.drop_duplicates()\n",
    "df_match.shape"
   ]
  },
  {
   "cell_type": "markdown",
   "id": "18908cff-0a41-4484-9d70-7a59c325877f",
   "metadata": {},
   "source": [
    "##### Вывод"
   ]
  },
  {
   "cell_type": "markdown",
   "id": "c3724002-91da-4eb5-8373-f4b360c37a75",
   "metadata": {},
   "source": [
    "Добависли данные из Сметченные позиции 3 в df_match"
   ]
  },
  {
   "cell_type": "markdown",
   "id": "a7fb13a3-fe3b-40ea-8389-5e525cd9beb5",
   "metadata": {},
   "source": [
    "#### Вывод"
   ]
  },
  {
   "cell_type": "markdown",
   "id": "0b2934eb-8a20-44cc-a654-fc73d2c3d71a",
   "metadata": {},
   "source": [
    "После загрузки и первичной обработки есть 2 датафрейма\n",
    "- df_vink_items список товаров\n",
    "- df_match список проверенных соответствий между товарами (target) и вводимыми данными (name)\n",
    "\n",
    "\n",
    "Можно сделать рекомендацию:\n",
    "- В описании   товаров делать более информативные названия. Сейчас, например, присктствуют такие товары как \"Картины\" , \"Cверло\" и т.д."
   ]
  },
  {
   "cell_type": "markdown",
   "id": "19156a04-13f2-41cc-9076-94d9aef2e919",
   "metadata": {},
   "source": [
    "### Модель"
   ]
  },
  {
   "cell_type": "markdown",
   "id": "9fda1fd3-9fda-41cf-81a5-4932e3b24dd2",
   "metadata": {},
   "source": [
    "#### Формулировка и обучение модели."
   ]
  },
  {
   "cell_type": "markdown",
   "id": "0acfbded-92f8-4ba4-ab16-db306796d70f",
   "metadata": {},
   "source": [
    "После загрузки данных задача стала более конкретной. Есть датафрейм со строками - названиями   товаров. Для вводимой строки названия товара нужно находить максимально близкую строку названия товара из ассортимента.\n",
    "Поскольку порядок слов и чисел в названиях не очень существеннен, то будем использовать TF-IDF векторизацию. \n",
    "Поскольку в названии могут быть слова , числа , различные символы, разделители десятичной части. \n",
    "То оставляем только слова и числа, приводим буквы к нижнему регистру. "
   ]
  },
  {
   "cell_type": "markdown",
   "id": "b5665093-5a02-4cc4-9cf9-4f5841215cdf",
   "metadata": {},
   "source": [
    "Простой токенизатор разбиение на слова и числа."
   ]
  },
  {
   "cell_type": "code",
   "execution_count": 419,
   "id": "bd324ff5-6333-448e-b6b1-c43065aec2d1",
   "metadata": {},
   "outputs": [],
   "source": [
    "def extract_tokens(text):\n",
    "    # Регулярное выражение находит числа (с точкой или запятой) и слова (русские и латинские)\n",
    "    tokens = re.findall(r'\\d+(?:[.,]\\d+)?|[A-Za-zА-Яа-я]+', text)\n",
    "    result = []\n",
    "    for token in tokens:\n",
    "        # Если токен начинается с цифры, считаем его числом и сохраняем как есть\n",
    "        if re.match(r'^\\d', token):\n",
    "            result.append(token)\n",
    "        else:\n",
    "            # Для слов приводим к нижнему регистру и оставляем, если длина больше 3 символов\n",
    "            token_lower = token.lower()\n",
    "            if len(token_lower) > 1:\n",
    "                result.append(token_lower)\n",
    "    return result\n",
    "\n",
    "# Кастомный токенайзер для TfidfVectorizer\n",
    "def custom_tokenizer(text):\n",
    "    return extract_tokens(text)"
   ]
  },
  {
   "cell_type": "markdown",
   "id": "68eb116f-0afc-4a97-a687-9ba7bbf111de",
   "metadata": {},
   "source": [
    "Более сложный токенизатор показывает лучшую метрику.\n",
    "Каждый текст соответстующий товару преобразуется следующим образом. \n",
    "- Остаются только буквы, цифры и точка/запятая , если они между цифр.\n",
    "- Удаляются числа начинающиеся с 0  (Иначе это не число, например, 0123)\n",
    "- Удаляются числа после которых идут кг (этих величин часто нет)\n",
    "- Удаляются слова короче 3 букв кроме отдельностоящих заглавных латинских букв. (Такие буквы часто имеет смысл обозначения модификации)\n",
    "- Все буквы приводятся к строчным."
   ]
  },
  {
   "cell_type": "code",
   "execution_count": 420,
   "id": "ed33aeed-548f-4361-b417-e8c41cce9c24",
   "metadata": {},
   "outputs": [],
   "source": [
    "def extract_tokens(text):\n",
    "    \"\"\"\n",
    "    Функция извлекает:\n",
    "      - Числа (целые и дробные, разделитель может быть точкой или запятой),\n",
    "        при этом:\n",
    "          * Отбрасываются числа, начинающиеся с 0.\n",
    "          * Отбрасываются числа, после которых через пробел идёт 'кг'.\n",
    "      - Слова (русские и латинские, если их длина > 3 символов, приводятся к нижнему регистру).\n",
    "      - Отдельностоящие заглавные латинские буквы.\n",
    "    \"\"\"\n",
    "    # Регулярное выражение:\n",
    "    # (?!0\\d)                - число не должно начинаться с 0 (например, 0123 не подходит)\n",
    "    # \\d+(?:[.,]\\d+)?        - число с необязательной дробной частью\n",
    "    # (?!\\s+кг)              - сразу после числа не должно идти пробельное пространство и \"кг\"\n",
    "    # [A-Za-zА-Яа-я]+        - последовательности букв (русские и латинские)\n",
    "    # \\b[A-Z]\\b              - отдельностоящие заглавные латинские буквы\n",
    "    pattern = pattern = r'(?!0\\d)\\d+(?:[.,]\\d+)?(?!\\s+кг)|[A-Za-zА-Яа-я]+|(?:\\b[A-Z]\\b|(?<=\\d)[A-Z]|[A-Z](?=\\d))'\n",
    "    \n",
    "    tokens = re.findall(pattern, text)\n",
    "    result = []\n",
    "    \n",
    "    for token in tokens:\n",
    "        # Если токен начинается с цифры – это число\n",
    "        if re.match(r'^\\d', token):\n",
    "            result.append(token)\n",
    "        # Если токен – это отдельная заглавная латинская буква, оставляем его без изменений\n",
    "        elif re.match(r'^[A-Z]$', token):\n",
    "            result.append(token)\n",
    "        else:\n",
    "            token_lower = token.lower()\n",
    "            # Добавляем слово, если его длина больше 3 символов\n",
    "            if len(token_lower) > 3:\n",
    "                result.append(token_lower[:4])\n",
    "    return result\n",
    "\n",
    "# Кастомный токенайзер для TfidfVectorizer\n",
    "def custom_tokenizer(text):\n",
    "    return extract_tokens(text)"
   ]
  },
  {
   "cell_type": "markdown",
   "id": "ec9e66ab-bdd0-43a5-a3ce-129909d3f061",
   "metadata": {},
   "source": [
    "Используя токенизатор делаем TF-IDF векторизацию и обучаем модель ближайших соседей используя в качестве метрики косинусное сходство. Количество ближайших соседей N можно изменять. \n",
    "Затем смотрим на датасете df_match длю случаев, когда верный ответ находится среди N ближайших соседей."
   ]
  },
  {
   "cell_type": "code",
   "execution_count": 421,
   "id": "ffde11c8-dadb-4c55-aaa7-2cf78e779577",
   "metadata": {},
   "outputs": [
    {
     "name": "stdout",
     "output_type": "stream",
     "text": [
      "Accuracy модели: 0.6578947368421053\n"
     ]
    }
   ],
   "source": [
    "\n",
    "\n",
    "# Построение TF‑IDF векторизатора на   товарах (df_vink_items)\n",
    "vectorizer = TfidfVectorizer(tokenizer=custom_tokenizer, token_pattern=None)\n",
    "tfidf_vink_items = vectorizer.fit_transform(df_vink_items['name'])\n",
    "\n",
    "# Создаем модель NearestNeighbors для поиска ближайших товаров,\n",
    "# используем косинусное расстояние (в sklearn метрика \"cosine\" возвращает расстояние)\n",
    "N = 5  # Количество наиболее похожих товаров, которое мы будем выдавать для каждого запроса\n",
    "nn_model = NearestNeighbors(metric='cosine')\n",
    "nn_model.fit(tfidf_vink_items)\n",
    "\n",
    "# Функция для получения топ-N   товаров для заданного вводимого названия товара,\n",
    "# возвращает список кортежей (название, мера сходства), где мера = 1 - косинусное расстояние\n",
    "def get_top_n_products(query_text, n=N):\n",
    "    query_vector = vectorizer.transform([query_text])\n",
    "    distances, indices = nn_model.kneighbors(query_vector,n)\n",
    "    # Преобразуем расстояния в сходство: чем меньше расстояние, тем больше сходство\n",
    "    similarities = 1 - distances[0]\n",
    "    predicted_products = df_vink_items.iloc[indices[0]][\"name\"].tolist()\n",
    "    # Формируем список кортежей (название, сходство)\n",
    "    return list(zip(predicted_products, similarities))\n",
    "\n",
    "# Оценка модели на тестовом датасете (df_match)\n",
    "# Если правильный (target) товар попал в топ-N, считаем предсказание корректным.\n",
    "correct = 0\n",
    "n_total = df_match.shape[0]\n",
    "\n",
    "for idx, row in df_match.iterrows():\n",
    "    name = row['name']\n",
    "    target = row['target']\n",
    "    predictions = get_top_n_products(name, n=N)\n",
    "    predicted_names = [p[0] for p in predictions]\n",
    "    if target in predicted_names:\n",
    "        correct += 1\n",
    "    # Для наглядности можно вывести результаты:\n",
    "    #print(\"Название:\", name)\n",
    "    #print(\"Топ предсказаний (название, сходство):\")\n",
    "    #for product, sim in predictions:\n",
    "        #print(f\"  {product}: {sim:.4f}\")\n",
    "    #print(\"Ожидаемый товар из ассортимента:\", target)\n",
    "    #print(\"---\")\n",
    "\n",
    "accuracy = correct / n_total\n",
    "print(\"Accuracy модели:\", accuracy)"
   ]
  },
  {
   "cell_type": "markdown",
   "id": "e23d485c-eaa8-4632-86e0-60dfc868a606",
   "metadata": {},
   "source": [
    "Дальнейшее усложнение, например, добавление лемматизации и стемминга. К улучшкеию метрик не приводит. "
   ]
  },
  {
   "cell_type": "markdown",
   "id": "c19cd884-e529-4fbe-acf8-630a246a768f",
   "metadata": {
    "jp-MarkdownHeadingCollapsed": true
   },
   "source": [
    "```\n",
    "# Инициализируем лемматизатор и стеммеры\n",
    "morph = pymorphy3.MorphAnalyzer()\n",
    "rus_stemmer = SnowballStemmer(\"russian\")\n",
    "eng_stemmer = SnowballStemmer(\"english\")\n",
    "eng_lemmatizer = WordNetLemmatizer()\n",
    "\n",
    "# Функция токенизации с выделением нужных паттернов\n",
    "def extract_tokens(text):\n",
    "    pattern = r'(?!0\\d)\\d+(?:[.,]\\d+)?(?!\\s+кг)|[A-Za-zА-Яа-я]+|(?:\\b[A-Z]\\b|(?<=\\d)[A-Z]|[A-Z](?=\\d))'\n",
    "    tokens = re.findall(pattern, text)\n",
    "    result = []\n",
    "    for token in tokens:\n",
    "        # Числа оставляем без изменений\n",
    "        if re.match(r'^\\d', token):\n",
    "            result.append(token)\n",
    "        else:\n",
    "            result.append(token.lower())\n",
    "    return result\n",
    "\n",
    "# Новый токенайзер: токенизация + лемматизация + стемминг\n",
    "def custom_tokenizer(text):\n",
    "    raw_tokens = extract_tokens(text)\n",
    "    processed = []\n",
    "    for token in raw_tokens:\n",
    "        # Если токен - число\n",
    "        if re.match(r'^\\d', token):\n",
    "            processed.append(token)\n",
    "        # Если есть кириллический символ, применяем pymorphy2 + русский стеммер\n",
    "        elif re.search(r'[а-яё]', token):\n",
    "            lemma = morph.parse(token)[0].normal_form\n",
    "            stem = rus_stemmer.stem(lemma)\n",
    "            processed.append(stem)\n",
    "        # Иначе считаем латинским: применяем WordNetLemmatizer + английский стеммер\n",
    "        else:\n",
    "            lemma = eng_lemmatizer.lemmatize(token)\n",
    "            stem = eng_stemmer.stem(lemma)\n",
    "            processed.append(stem)\n",
    "    return processed\n",
    "```"
   ]
  },
  {
   "cell_type": "markdown",
   "id": "a0bc330d-2e80-4407-a7fb-3f359c0d0f35",
   "metadata": {},
   "source": [
    "#### Анализ точности предсказаний"
   ]
  },
  {
   "cell_type": "markdown",
   "id": "b2637188-d44c-4cc5-995b-99c167913f8b",
   "metadata": {},
   "source": [
    "Построим график зависимости accuracy от величины окна N."
   ]
  },
  {
   "cell_type": "code",
   "execution_count": 423,
   "id": "04b58c9a-e553-495e-bf97-9d0fd976bda6",
   "metadata": {},
   "outputs": [
    {
     "name": "stdout",
     "output_type": "stream",
     "text": [
      "Top-1: Accuracy = 25.56%\n",
      "Top-2: Accuracy = 40.23%\n",
      "Top-3: Accuracy = 48.87%\n",
      "Top-4: Accuracy = 59.40%\n",
      "Top-5: Accuracy = 65.79%\n",
      "Top-6: Accuracy = 69.92%\n",
      "Top-7: Accuracy = 72.93%\n",
      "Top-8: Accuracy = 77.82%\n",
      "Top-9: Accuracy = 80.83%\n",
      "Top-10: Accuracy = 83.46%\n"
     ]
    },
    {
     "data": {
      "image/png": "[encoded data removed]",
      "text/plain": [
       "<Figure size 800x600 with 1 Axes>"
      ]
     },
     "metadata": {},
     "output_type": "display_data"
    }
   ],
   "source": [
    "# Модель NearestNeighbors для поиска ближайших товаров с косинусной метрикой\n",
    "top_candidates = 10  # максимальное количество кандидатов, которое будем получать для дальнейшей оценки\n",
    "nn_model = NearestNeighbors(n_neighbors=top_candidates, metric='cosine')\n",
    "nn_model.fit(tfidf_vink_items)\n",
    "\n",
    "results = []  # список словарей с информацией для каждого запроса\n",
    "\n",
    "\n",
    "for idx, row in df_match.iterrows():\n",
    "    name = row['name']\n",
    "    target = row['target']\n",
    "    predictions = get_top_n_products(name, n=top_candidates)\n",
    "    # Определим позицию, на которой находится target (если отсутствует, запишем None)\n",
    "    positions = [i for i, (prod, sim) in enumerate(predictions, start=1) if prod == target]\n",
    "    pos = positions[0] if positions else None\n",
    "    results.append({'name': name, 'target': target, 'predictions': predictions, 'position': pos})\n",
    "    \n",
    "# Теперь вычислим accuracy для диапазона N от 1 до top_candidates.\n",
    "top_n_values = range(1, top_candidates + 1)\n",
    "accuracies = []\n",
    "\n",
    "for n in top_n_values:\n",
    "    correct = 0\n",
    "    total = len(results)\n",
    "    for res in results:\n",
    "        # Если target находится на позиции <= n, то считаем корректным предсказанием.\n",
    "        if res['position'] is not None and res['position'] <= n:\n",
    "            correct += 1\n",
    "    accuracy = correct / total\n",
    "    accuracies.append(accuracy)\n",
    "    print(f\"Top-{n}: Accuracy = {accuracy:.2%}\")\n",
    "\n",
    "# Строим график зависимости accuracy от top-N\n",
    "plt.figure(figsize=(8, 6))\n",
    "plt.plot(list(top_n_values), accuracies, marker='o', linestyle='-')\n",
    "plt.xlabel('Количество кандидатов (top N)')\n",
    "plt.ylabel('Accuracy')\n",
    "plt.title('Зависимость Accuracy от количества кандидатов (top N)')\n",
    "plt.grid(True)\n",
    "plt.xticks(list(top_n_values))\n",
    "plt.show()"
   ]
  },
  {
   "cell_type": "markdown",
   "id": "98c45aac-0870-4dee-aaec-43b142b2984d",
   "metadata": {},
   "source": [
    "Видно, что несмотря на низкую точность отдельного предсказания, точность быстро растет с ростом окна N."
   ]
  },
  {
   "cell_type": "markdown",
   "id": "9da8e020-a245-48bb-8efd-1c48234dca49",
   "metadata": {},
   "source": [
    "Были опробованы и другие более сложные варианты токенизатора, рассмотрены отдельно числа и слова с разными весами, после поиска лучших вариантов моделью ближайших соседей добавлялся второй уровень с использованием библиотеки fasttext. Но метрика у всех этих вариантов была ниже чем у самого простого ванианта , приведенного выше."
   ]
  },
  {
   "cell_type": "markdown",
   "id": "7927946a-b31b-4e56-9120-93873b004a97",
   "metadata": {},
   "source": [
    "Посмотрим теперь на распределение косинусного сходства по датасету df_match"
   ]
  },
  {
   "cell_type": "code",
   "execution_count": 424,
   "id": "e9f46959-fe66-4dfe-b90d-a11091523930",
   "metadata": {},
   "outputs": [],
   "source": [
    "def sims_graph(df):# Сбор значений сходства\n",
    "    similarities = []\n",
    "    for name in tqdm(df['name']):\n",
    "        vec = vectorizer.transform([name])\n",
    "        dists, _ = nn_model.kneighbors(vec, n_neighbors=1)\n",
    "        sims = (1 - dists[0]).tolist()\n",
    "        similarities.extend(sims)\n",
    "\n",
    "    # Рисуем гистограмму распределения сходства\n",
    "    plt.figure(figsize=(8, 6))\n",
    "    plt.hist(similarities, bins=25)\n",
    "    plt.xlabel('Cosine Similarity')\n",
    "    plt.ylabel('Frequency')\n",
    "    plt.title('Распределение косинусного сходства предсказаний')\n",
    "    plt.grid(True)\n",
    "    plt.show()"
   ]
  },
  {
   "cell_type": "code",
   "execution_count": 425,
   "id": "812aa0a1-963e-49b8-aca5-325c6cb30396",
   "metadata": {},
   "outputs": [
    {
     "name": "stderr",
     "output_type": "stream",
     "text": [
      "100%|███████████████████████████████████████████████████████████████████████████████| 266/266 [00:02<00:00, 111.34it/s]\n"
     ]
    },
    {
     "data": {
      "image/png": "[encoded data removed]",
      "text/plain": [
       "<Figure size 800x600 with 1 Axes>"
      ]
     },
     "metadata": {},
     "output_type": "display_data"
    }
   ],
   "source": [
    "sims_graph(df_match)"
   ]
  },
  {
   "cell_type": "markdown",
   "id": "fe8b8565-82f9-4720-a709-c3a119c1e732",
   "metadata": {},
   "source": [
    "### Вывод "
   ]
  },
  {
   "cell_type": "markdown",
   "id": "e0f4b073-77b9-4cb4-b2b6-bc7ff12e7748",
   "metadata": {},
   "source": [
    "Для решения задачи поиска наиболее близких товаров были обработаны предоставленные файлы данных. Было принято решение анализировать только строку названия товара. Были объеденения данные из следующих групп файлов\n",
    "\n",
    "- Список   товаров.csv\n",
    "- Товары с артикулом.csv\n",
    "- Товары с категорями.xls\n",
    "\n",
    "и\n",
    "\n",
    "- Сметченные позиции 1.csv\n",
    "- Сметченные позиции 2.csv\n",
    "- Сметченные позиции 3.csv\n",
    "\n",
    "Затем была обучена модель для предсказания, которая состоит из TF-IDF векторизации и модели ближайших соседей работающей на этой векторизации с метрикой косинусного сходства.  \n",
    "Метрика accuracy на тестовых данных составила 25.6% на одиночном предсказании и 65.8% на выборке из топ-5.\n",
    "\n",
    "Для улучшения качества модели следующие рекомендации: увеличить датасет со сметченными товарами и повысить его достоверность, проверить полноту описаний товаров. "
   ]
  },
  {
   "cell_type": "code",
   "execution_count": null,
   "id": "d67472e6-6c76-4782-a6d1-56c315ae1af1",
   "metadata": {},
   "outputs": [],
   "source": []
  }
 ],
 "metadata": {
  "kernelspec": {
   "display_name": "Python 3 (ipykernel)",
   "language": "python",
   "name": "python3"
  },
  "language_info": {
   "codemirror_mode": {
    "name": "ipython",
    "version": 3
   },
   "file_extension": ".py",
   "mimetype": "text/x-python",
   "name": "python",
   "nbconvert_exporter": "python",
   "pygments_lexer": "ipython3",
   "version": "3.11.2"
  }
 },
 "nbformat": 4,
 "nbformat_minor": 5
}
